{
 "cells": [
  {
   "cell_type": "code",
   "execution_count": 30,
   "metadata": {},
   "outputs": [],
   "source": [
    "# matplotlib 관련 공부할 수 있는 링크\n",
    "# https://wikidocs.net/book/5011\n",
    "import matplotlib.pyplot as plt"
   ]
  },
  {
   "cell_type": "code",
   "execution_count": 31,
   "metadata": {},
   "outputs": [],
   "source": [
    "%matplotlib inline"
   ]
  },
  {
   "cell_type": "code",
   "execution_count": 32,
   "metadata": {},
   "outputs": [],
   "source": [
    "data_f = open(\"Book_column_test.csv\",'r', encoding='utf-8-sig')\n",
    "\n",
    "TIMEs = []\n",
    "CBRs = []\n",
    "TESTs = []\n",
    "\n",
    "for line in data_f:\n",
    "    # print(line): csv파일 형태 그대로 출력해준다. \n",
    "    (TIME, CBR, TEST) = line.split(',')\n",
    "    TIMEs.append(TIME)\n",
    "    CBRs.append(CBR)\n",
    "    TESTs.append(TEST)\n",
    "    \n",
    "data_f.close()"
   ]
  },
  {
   "cell_type": "code",
   "execution_count": 33,
   "metadata": {},
   "outputs": [
    {
     "name": "stdout",
     "output_type": "stream",
     "text": [
      "10,100,101\n"
     ]
    }
   ],
   "source": [
    "print(line)"
   ]
  },
  {
   "cell_type": "code",
   "execution_count": 34,
   "metadata": {},
   "outputs": [
    {
     "name": "stdout",
     "output_type": "stream",
     "text": [
      "['TIME', '0', '1', '2', '3', '4', '5', '6', '7', '8', '9', '10']\n"
     ]
    }
   ],
   "source": [
    "print(TIMEs)"
   ]
  },
  {
   "cell_type": "code",
   "execution_count": 35,
   "metadata": {},
   "outputs": [
    {
     "name": "stdout",
     "output_type": "stream",
     "text": [
      "['CBR', '0', '1', '4', '9', '16', '25', '36', '49', '64', '81', '100']\n"
     ]
    }
   ],
   "source": [
    "print(CBRs)"
   ]
  },
  {
   "cell_type": "code",
   "execution_count": 36,
   "metadata": {},
   "outputs": [
    {
     "name": "stdout",
     "output_type": "stream",
     "text": [
      "['TEST\\n', '12\\n', '14\\n', '4\\n', '233\\n', '1\\n', '26\\n', '37\\n', '523\\n', '65\\n', '82\\n', '101']\n"
     ]
    }
   ],
   "source": [
    "print(TESTs)"
   ]
  },
  {
   "cell_type": "code",
   "execution_count": 37,
   "metadata": {},
   "outputs": [
    {
     "name": "stdout",
     "output_type": "stream",
     "text": [
      "[0, 1, 2, 3, 4, 5, 6, 7, 8, 9, 10]\n",
      "[0, 1, 4, 9, 16, 25, 36, 49, 64, 81, 100]\n",
      "[12, 14, 4, 233, 1, 26, 37, 523, 65, 82, 101]\n"
     ]
    }
   ],
   "source": [
    "TIMEs = TIMEs[1:]\n",
    "CBRs = CBRs[1:]\n",
    "TESTs = TESTs[1:]\n",
    "\n",
    "TIMEs = [int (i) for i in TIMEs]\n",
    "CBRs = [int (i) for i in CBRs]\n",
    "TESTs = [int (i) for i in TESTs]\n",
    "\n",
    "print(TIMEs)\n",
    "print(CBRs)\n",
    "print(TESTs)"
   ]
  },
  {
   "cell_type": "code",
   "execution_count": 40,
   "metadata": {},
   "outputs": [
    {
     "data": {
      "text/plain": [
       "<function matplotlib.pyplot.show(close=None, block=None)>"
      ]
     },
     "execution_count": 40,
     "metadata": {},
     "output_type": "execute_result"
    },
    {
     "data": {
      "image/png": "[encoded data removed]",
      "text/plain": [
       "<Figure size 432x288 with 1 Axes>"
      ]
     },
     "metadata": {
      "needs_background": "light"
     },
     "output_type": "display_data"
    }
   ],
   "source": [
    "fig = plt.figure()\n",
    "# subplot(a, b, c)는 a, b는 그래프 개수의 x, y축을 의미, c는 a*b개수 중 c번째(좌측 위부터가 1번)\n",
    "ax = fig.add_subplot(1, 1, 1)\n",
    "\n",
    "# color, marker, linestyle 정리 url: https://wikidocs.net/92083\n",
    "plt.plot(TIMEs, TESTs, color='magenta', marker='o', linestyle='dashed', label='CBR')\n",
    "# 그래프 title 생성\n",
    "plt.title(\"CBR stabilizing\")\n",
    "# 그래프 x, y축 설정\n",
    "plt.xlabel(\"TIME\")\n",
    "plt.ylabel(\"CBR\")\n",
    "# 범례 생성\n",
    "plt.legend()\n",
    "# grid 생성\n",
    "plt.grid(True)\n",
    "plt.show"
   ]
  },
  {
   "cell_type": "code",
   "execution_count": null,
   "metadata": {},
   "outputs": [],
   "source": []
  }
 ],
 "metadata": {
  "kernelspec": {
   "display_name": "Python 3.9.7 ('base')",
   "language": "python",
   "name": "python3"
  },
  "language_info": {
   "codemirror_mode": {
    "name": "ipython",
    "version": 3
   },
   "file_extension": ".py",
   "mimetype": "text/x-python",
   "name": "python",
   "nbconvert_exporter": "python",
   "pygments_lexer": "ipython3",
   "version": "3.9.7"
  },
  "orig_nbformat": 4,
  "vscode": {
   "interpreter": {
    "hash": "1c85c473440cdb0817c5cb7020a24ab37460ab2d02852c9aea34c672babc25f2"
   }
  }
 },
 "nbformat": 4,
 "nbformat_minor": 2
}
