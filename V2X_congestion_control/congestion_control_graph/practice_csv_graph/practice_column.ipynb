{
 "cells": [
  {
   "cell_type": "code",
   "execution_count": 1,
   "metadata": {},
   "outputs": [],
   "source": [
    "import matplotlib.pyplot as plt"
   ]
  },
  {
   "cell_type": "code",
   "execution_count": 2,
   "metadata": {},
   "outputs": [],
   "source": [
    "%matplotlib inline"
   ]
  },
  {
   "cell_type": "code",
   "execution_count": 3,
   "metadata": {},
   "outputs": [],
   "source": [
    "data_f = open(\"Book_column.csv\",'r', encoding='utf-8-sig')\n",
    "\n",
    "# 각 열의 데이터를 넣어줄 행렬 생성\n",
    "# column 형태로 나누어 졌을때는 데이터필드를 직접 입력하여 하나씩 해주어야 한다. \n",
    "TIMEs = []\n",
    "CBRs = []\n",
    "TESTs = []\n",
    "\n",
    "for line in data_f:\n",
    "    # print(line): csv파일 형태 그대로 출력해준다. \n",
    "    (TIME, CBR, TEST) = line.split(',')\n",
    "    TIMEs.append(TIME)\n",
    "    CBRs.append(CBR)\n",
    "    TESTs.append(TEST)\n",
    "    \n",
    "data_f.close()"
   ]
  },
  {
   "cell_type": "code",
   "execution_count": 6,
   "metadata": {},
   "outputs": [
    {
     "name": "stdout",
     "output_type": "stream",
     "text": [
      "[1.0, 2.0, 3.0, 4.0, 5.0, 6.0, 7.0, 8.0, 9.0, 10.0]\n",
      "[1.0, 4.0, 9.0, 16.0, 25.0, 36.0, 49.0, 64.0, 81.0, 100.0]\n",
      "[0.0, 0.0, 0.0, 324.0, 43.0, 10.0, 1.0, 6.0, 32.0, 13.0, 43.0, 13.0, 10.0]\n"
     ]
    }
   ],
   "source": [
    "# TIMEs = TIMEs[1:]\n",
    "# CBRs = CBRs[1:]\n",
    "# TESTs = TESTs[1:]\n",
    "\n",
    "TIMEs = [float (i) for i in TIMEs]\n",
    "CBRs = [float (i) for i in CBRs]\n",
    "TESTs = [float (i) for i in TESTs]\n",
    "\n",
    "TESTs.insert(0, 0.0)\n",
    "\n",
    "print(TIMEs)\n",
    "print(CBRs)\n",
    "print(TESTs)"
   ]
  },
  {
   "cell_type": "code",
   "execution_count": 9,
   "metadata": {},
   "outputs": [
    {
     "data": {
      "text/plain": [
       "<function matplotlib.pyplot.show(close=None, block=None)>"
      ]
     },
     "execution_count": 9,
     "metadata": {},
     "output_type": "execute_result"
    },
    {
     "data": {
      "image/png": "[encoded data removed]",
      "text/plain": [
       "<Figure size 432x288 with 1 Axes>"
      ]
     },
     "metadata": {
      "needs_background": "light"
     },
     "output_type": "display_data"
    }
   ],
   "source": [
    "fig = plt.figure()\n",
    "# subplot(a, b, c)는 a, b는 그래프 개수의 x, y축을 의미, c는 a*b개수 중 c번째(좌측 위부터가 1번)\n",
    "ax = fig.add_subplot(1, 1, 1)\n",
    "\n",
    "# color, marker, linestyle 정리 url: https://wikidocs.net/92083\n",
    "plt.plot(TIMEs, CBRs, color='magenta', marker='o', linestyle='dashed', label='modfied CBR')\n",
    "plt.plot(TIMEs, TESTs, color='cyan', marker='o', linestyle='solid', label='unmodfied CBR')\n",
    "# 그래프 title 생성\n",
    "plt.title(\"CBR stabilizing\")\n",
    "# 그래프 x, y축 설정\n",
    "plt.xlabel(\"TIME\")\n",
    "plt.ylabel(\"CBR\")\n",
    "# grid 생성\n",
    "plt.grid(True)\n",
    "# 범례 생성\n",
    "plt.legend(loc='upper left')\n",
    "plt.show"
   ]
  },
  {
   "cell_type": "code",
   "execution_count": null,
   "metadata": {},
   "outputs": [],
   "source": []
  }
 ],
 "metadata": {
  "kernelspec": {
   "display_name": "Python 3.9.7 ('base')",
   "language": "python",
   "name": "python3"
  },
  "language_info": {
   "codemirror_mode": {
    "name": "ipython",
    "version": 3
   },
   "file_extension": ".py",
   "mimetype": "text/x-python",
   "name": "python",
   "nbconvert_exporter": "python",
   "pygments_lexer": "ipython3",
   "version": "3.9.7"
  },
  "orig_nbformat": 4,
  "vscode": {
   "interpreter": {
    "hash": "1c85c473440cdb0817c5cb7020a24ab37460ab2d02852c9aea34c672babc25f2"
   }
  }
 },
 "nbformat": 4,
 "nbformat_minor": 2
}
