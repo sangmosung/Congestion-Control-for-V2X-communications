{
 "cells": [
  {
   "cell_type": "code",
   "execution_count": 10,
   "metadata": {},
   "outputs": [],
   "source": [
    "import matplotlib.pyplot as plt\n",
    "import pandas as pd\n",
    "import numpy as np"
   ]
  },
  {
   "cell_type": "code",
   "execution_count": 11,
   "metadata": {},
   "outputs": [],
   "source": [
    "%matplotlib inline"
   ]
  },
  {
   "cell_type": "code",
   "execution_count": 12,
   "metadata": {},
   "outputs": [
    {
     "name": "stdout",
     "output_type": "stream",
     "text": [
      "[['TIME', '0', '1', '2', '3', '4', '5', '6', '7', '8', '9', '10'], ['CBR', '0', '1', '4', '9', '16', '25', '36', '49', '64', '81', '100'], ['TEST', '78', '10', '55', '10', '7', '2', '3', '51', '65', '82', '10']]\n",
      "     0   1   2   3   4   5   6   7   8   9   10   11\n",
      "0  TIME   0   1   2   3   4   5   6   7   8   9   10\n",
      "1   CBR   0   1   4   9  16  25  36  49  64  81  100\n",
      "2  TEST  78  10  55  10   7   2   3  51  65  82   10\n",
      "['TIME' '0' '1' '2' '3' '4' '5' '6' '7' '8' '9' '10']\n"
     ]
    }
   ],
   "source": [
    "import csv\n",
    "data = list()\n",
    "f = open(\"Book_row.csv\", 'r', encoding='utf-8-sig')\n",
    "# df = pd.read_csv(\"Book.csv\")\n",
    "rea = csv.reader(f)\n",
    "for row in rea:\n",
    "    data.append(row)\n",
    "f.close\n",
    "print(data)\n",
    "\n",
    "df = pd.DataFrame(data)\n",
    "print(df)\n",
    "\n",
    "# Dataframe 형태를 numpy로 변환하여 matplotlib에서 그래프 생성 가능하도록\n",
    "df_num = df.to_numpy()\n",
    "# 변환 후 첫번째 행만 출력 가능\n",
    "print(df_num[0])"
   ]
  },
  {
   "cell_type": "code",
   "execution_count": 13,
   "metadata": {},
   "outputs": [
    {
     "name": "stdout",
     "output_type": "stream",
     "text": [
      "     0   1   2   3   4   5   6   7   8   9   10   11\n",
      "1   CBR   0   1   4   9  16  25  36  49  64  81  100\n",
      "2  TEST  78  10  55  10   7   2   3  51  65  82   10\n",
      "['CBR' '0' '1' '4' '9' '16' '25' '36' '49' '64' '81' '100']\n"
     ]
    }
   ],
   "source": [
    "# 행을 삭제하는 방법\n",
    "# 삭제하고 싶은 행을 []안에 넣어주면 된다.\n",
    "df_1 = df.drop([0], axis = 0)\n",
    "print(df_1)\n",
    "\n",
    "# Dataframe 형태를 numpy로 변환하여 matplotlib에서 그래프 생성 가능하도록\n",
    "df_num_1 = df_1.to_numpy()\n",
    "# 변환 후 첫번째 행만 출력 가능\n",
    "print(df_num_1[0])"
   ]
  },
  {
   "cell_type": "code",
   "execution_count": 14,
   "metadata": {},
   "outputs": [
    {
     "name": "stdout",
     "output_type": "stream",
     "text": [
      "   1   2   3   4   5   6   7   8   9   10   11\n",
      "0   0   1   2   3   4   5   6   7   8   9   10\n",
      "1   0   1   4   9  16  25  36  49  64  81  100\n",
      "2  78  10  55  10   7   2   3  51  65  82   10\n",
      "['0' '1' '2' '3' '4' '5' '6' '7' '8' '9' '10']\n",
      "['0' '1' '4' '9' '16' '25' '36' '49' '64' '81' '100']\n"
     ]
    }
   ],
   "source": [
    "# 열을 삭제하는 방법\n",
    "# 삭제하고 싶은 행을 axis = 1로 설정한 상태에서 []안에 삭제하고자 하는 열을 숫자로 넣어주면 된다.\n",
    "df_2 = df.drop([0], axis = 1)\n",
    "print(df_2)\n",
    "\n",
    "# Dataframe 형태를 numpy로 변환하여 matplotlib에서 그래프 생성 가능하도록\n",
    "df_num_2 = df_2.to_numpy()\n",
    "# 변환 후 각 행을 출력 가능\n",
    "print(df_num_2[0])\n",
    "print(df_num_2[1])"
   ]
  },
  {
   "cell_type": "code",
   "execution_count": 15,
   "metadata": {},
   "outputs": [],
   "source": [
    "# 인자가 sting형태로 되어있으므로 float형태로 변경\n",
    "TIMEs = df_num_2[0]\n",
    "CBRs = df_num_2[1]\n",
    "TESTs = df_num_2[2]\n",
    "\n",
    "TIMEs = [float (i) for i in TIMEs]\n",
    "CBRs = [float (i) for i in CBRs]\n",
    "TESTs = [float (i) for i in TESTs]"
   ]
  },
  {
   "cell_type": "code",
   "execution_count": 16,
   "metadata": {},
   "outputs": [
    {
     "data": {
      "text/plain": [
       "<function matplotlib.pyplot.show(close=None, block=None)>"
      ]
     },
     "execution_count": 16,
     "metadata": {},
     "output_type": "execute_result"
    },
    {
     "data": {
      "image/png": "[encoded data removed]",
      "text/plain": [
       "<Figure size 432x288 with 1 Axes>"
      ]
     },
     "metadata": {
      "needs_background": "light"
     },
     "output_type": "display_data"
    }
   ],
   "source": [
    "fig = plt.figure()\n",
    "# subplot(a, b, c)는 a, b는 그래프 개수의 x, y축을 의미, c는 a*b개수 중 c번째(좌측 위부터가 1번)\n",
    "ax = fig.add_subplot(1, 1, 1)\n",
    "\n",
    "# color, marker, linestyle 정리 url: https://wikidocs.net/92083\n",
    "plt.plot(TIMEs, CBRs, color='magenta', marker='o', linestyle='dashed', label='modfied CBR')\n",
    "plt.plot(TIMEs, TESTs, color='cyan', marker='o', linestyle='solid', label='unmodfied CBR')\n",
    "# 그래프 title 생성\n",
    "plt.title(\"CBR stabilizing\")\n",
    "# 그래프 x, y축 설정\n",
    "plt.xlabel(\"TIME\")\n",
    "plt.ylabel(\"CBR\")\n",
    "# grid 생성\n",
    "plt.grid(True)\n",
    "# 범례 생성\n",
    "plt.legend(loc='upper left')\n",
    "plt.show"
   ]
  },
  {
   "cell_type": "code",
   "execution_count": null,
   "metadata": {},
   "outputs": [],
   "source": []
  }
 ],
 "metadata": {
  "kernelspec": {
   "display_name": "Python 3.9.7 ('base')",
   "language": "python",
   "name": "python3"
  },
  "language_info": {
   "codemirror_mode": {
    "name": "ipython",
    "version": 3
   },
   "file_extension": ".py",
   "mimetype": "text/x-python",
   "name": "python",
   "nbconvert_exporter": "python",
   "pygments_lexer": "ipython3",
   "version": "3.9.7"
  },
  "orig_nbformat": 4,
  "vscode": {
   "interpreter": {
    "hash": "1c85c473440cdb0817c5cb7020a24ab37460ab2d02852c9aea34c672babc25f2"
   }
  }
 },
 "nbformat": 4,
 "nbformat_minor": 2
}
